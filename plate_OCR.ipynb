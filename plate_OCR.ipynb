{
 "cells": [
  {
   "cell_type": "code",
   "execution_count": null,
   "metadata": {},
   "outputs": [],
   "source": [
    "id_num = 0000\n",
    "id_num"
   ]
  },
  {
   "cell_type": "code",
   "execution_count": null,
   "metadata": {},
   "outputs": [],
   "source": [
    "def lpad(i, width, fillchar='0'):\n",
    "    \"\"\"입력된 숫자 또는 문자열 왼쪽에 fillchar 문자로 패딩\"\"\"\n",
    "    return str(i).rjust(width, fillchar)"
   ]
  },
  {
   "cell_type": "code",
   "execution_count": null,
   "metadata": {},
   "outputs": [],
   "source": [
    "from main import PororoOcr\n",
    "import cv2\n",
    "import numpy as np\n",
    "import matplotlib.pyplot as plt\n",
    "# 최초에 한번은 Model을 다운로드 합니다. 경로는 Windows의 경우 ```C:/pororo/misc```이고 Mac OS의 경우는 ```~/.pororo/misc/``` 입니다.\n",
    "ocr = PororoOcr()\n",
    "\n",
    "# 현재 지원 가능하는 언어는 영어와 한국어 입니다.\n",
    "ocr.get_available_langs()\n",
    "ocr.get_available_models()\n",
    "\n",
    "# 사용할 이미지\n",
    "img_path = 'car77.jpg'\n",
    "# 차 이미지 글자 인식\n",
    "ocr.run_ocr(img_path, debug=True)"
   ]
  },
  {
   "cell_type": "code",
   "execution_count": null,
   "metadata": {},
   "outputs": [],
   "source": [
    "# 번호판 글자 인식\n",
    "\n",
    "longest_idx, longest_text = -1, 0\n",
    "plate_chars = []\n",
    "\n",
    "for i in range(len(ocr.get_ocr_result()['bounding_poly'])):\n",
    "    result_chars = ''\n",
    "    has_digit = False\n",
    "\n",
    "    chars = ocr.get_ocr_result()['bounding_poly'][i]['description']\n",
    "    for c in chars:\n",
    "        if ord('가') <= ord(c) <= ord('힣') or c.isdigit():\n",
    "            if c.isdigit():\n",
    "                has_digit = True\n",
    "            result_chars += c\n",
    "    \n",
    "    print(result_chars)\n",
    "    plate_chars.append(result_chars)\n",
    "\n",
    "    if has_digit and len(result_chars) > longest_text:\n",
    "        longest_idx = i\n",
    "        x = ocr.get_ocr_result()['bounding_poly'][longest_idx]['vertices'][0]['x']\n",
    "        y = ocr.get_ocr_result()['bounding_poly'][longest_idx]['vertices'][0]['y']\n",
    "        w = ocr.get_ocr_result()['bounding_poly'][longest_idx]['vertices'][1]['x'] - x\n",
    "        h = ocr.get_ocr_result()['bounding_poly'][longest_idx]['vertices'][2]['y'] - y\n",
    "        id_num = int(id_num) + 1\n",
    "        id_num = lpad(id_num, 4, '0')\n",
    "        ID = 'AA_' + id_num"
   ]
  },
  {
   "cell_type": "code",
   "execution_count": null,
   "metadata": {},
   "outputs": [],
   "source": [
    "result_chars"
   ]
  },
  {
   "cell_type": "code",
   "execution_count": null,
   "metadata": {},
   "outputs": [],
   "source": [
    "ocr.get_ocr_result()\n",
    "\n",
    "print(x,y,w,h)\n",
    "\n",
    "img_ori = cv2.imread(img_path)"
   ]
  },
  {
   "cell_type": "code",
   "execution_count": null,
   "metadata": {},
   "outputs": [],
   "source": [
    "# 번호판 이미지 크롭\n",
    "cropped_img = img_ori[y: y + h, x: x + w]"
   ]
  },
  {
   "cell_type": "code",
   "execution_count": null,
   "metadata": {},
   "outputs": [],
   "source": [
    "# 번호판 이미지 확인\n",
    "plt.figure(figsize=(12, 10))\n",
    "plt.imshow(cropped_img,cmap='gray')"
   ]
  },
  {
   "cell_type": "code",
   "execution_count": null,
   "metadata": {},
   "outputs": [],
   "source": [
    "# 번호판 이미지 저장\n",
    "from PIL import Image\n",
    "pil_Image = Image.fromarray(cropped_img)\n",
    "pil_Image.save(f\"./data/plate_{img_path}\")"
   ]
  },
  {
   "cell_type": "code",
   "execution_count": null,
   "metadata": {},
   "outputs": [],
   "source": [
    "# 번호판 이미지 글자 인식\n",
    "label = ocr.run_ocr(f\"./data/plate_{img_path}\", debug=True)[0]"
   ]
  },
  {
   "cell_type": "code",
   "execution_count": null,
   "metadata": {},
   "outputs": [],
   "source": [
    "# 글자 정제\n",
    "plate_label = ''\n",
    "for c in label:\n",
    "        if ord('가') <= ord(c) <= ord('힣') or c.isdigit():\n",
    "            if c.isdigit():\n",
    "                has_digit = True\n",
    "            plate_label += c"
   ]
  },
  {
   "cell_type": "code",
   "execution_count": null,
   "metadata": {},
   "outputs": [],
   "source": [
    "plate_label"
   ]
  },
  {
   "cell_type": "code",
   "execution_count": null,
   "metadata": {},
   "outputs": [],
   "source": [
    "# 오늘 날짜 저장\n",
    "from datetime import datetime\n",
    "\n",
    "today = datetime.today().strftime(\"%Y-%m-%d\")\n",
    "print(today)"
   ]
  },
  {
   "cell_type": "code",
   "execution_count": null,
   "metadata": {},
   "outputs": [],
   "source": [
    "# json 파일 만들기\n",
    "import json\n",
    "from collections import OrderedDict\n",
    "plate_data = OrderedDict()\n",
    "\n",
    "try:\n",
    "    with open('./data.json', 'r') as f:\n",
    "       plate_data = json.load(f)\n",
    "except FileNotFoundError:\n",
    "    plate_data = {'data' : []}\n",
    "\n",
    "\n",
    "my_dict = {\"ID\":ID,\n",
    "           \"CName\":\"김지수\",\n",
    "           \"date_create\":today,\n",
    "           \"data_path\":f\"./data/{result_chars}.jpg\",\n",
    "           \"filename\":img_path,\n",
    "           \"x\":x,\n",
    "           \"y\":y,\n",
    "           \"w\":w,\n",
    "           \"h\":h,\n",
    "           \"label\":plate_label}\n",
    "\n",
    "plate_data['data'].append(my_dict)\n",
    "with open('./data.json','w') as f:\n",
    "  json.dump(plate_data, f, ensure_ascii=False, indent=4)"
   ]
  }
 ],
 "metadata": {
  "kernelspec": {
   "display_name": "pororo",
   "language": "python",
   "name": "python3"
  },
  "language_info": {
   "codemirror_mode": {
    "name": "ipython",
    "version": 3
   },
   "file_extension": ".py",
   "mimetype": "text/x-python",
   "name": "python",
   "nbconvert_exporter": "python",
   "pygments_lexer": "ipython3",
   "version": "3.7.16"
  },
  "orig_nbformat": 4
 },
 "nbformat": 4,
 "nbformat_minor": 2
}
